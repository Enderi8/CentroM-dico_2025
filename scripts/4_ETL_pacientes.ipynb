{
 "cells": [
  {
   "cell_type": "markdown",
   "id": "bc94db14",
   "metadata": {},
   "source": [
    "🧩 Fase 4 – ETL (Limpieza de Datos)\n",
    "•\tEliminar duplicados\n",
    "•\tRellenar valores nulos en campos de transporte o destino\n",
    "•\tFormatear fechas\n",
    "•\tValidar tipos de datos\n",
    "Guardar como pacientes_clean.csv."
   ]
  },
  {
   "cell_type": "code",
   "execution_count": 1,
   "id": "ddbada67",
   "metadata": {},
   "outputs": [
    {
     "name": "stdout",
     "output_type": "stream",
     "text": [
      "🔍 Valores nulos antes de la limpieza:\n",
      "id_paciente          0\n",
      "nombre             208\n",
      "edad               171\n",
      "sexo              1136\n",
      "distrito           575\n",
      "servicio           564\n",
      "fecha_atencion     194\n",
      "monto              194\n",
      "dtype: int64\n",
      "\n",
      "✅ Después de la limpieza:\n",
      "id_paciente       0\n",
      "nombre            0\n",
      "edad              0\n",
      "sexo              0\n",
      "distrito          0\n",
      "servicio          0\n",
      "fecha_atencion    0\n",
      "monto             0\n",
      "dtype: int64\n",
      "\n",
      "📁 Archivo limpio guardado en: c:\\Users\\John_\\documents\\CentroMédico_2025\\scripts\\..\\database\\pacientes_clean.csv\n",
      "📊 Total de registros finales: 2999\n"
     ]
    }
   ],
   "source": [
    "import pandas as pd\n",
    "from pathlib import Path\n",
    "\n",
    "# 1️⃣ Definir rutas\n",
    "data_path = Path.cwd() / \"../data\"\n",
    "database_path = Path.cwd() / \"../database\"\n",
    "database_path.mkdir(parents=True, exist_ok=True)\n",
    "\n",
    "input_file = data_path / \"pacientes.csv\"\n",
    "output_file = database_path / \"pacientes_clean.csv\"\n",
    "\n",
    "# 2️⃣ Leer el archivo CSV original\n",
    "df = pd.read_csv(input_file)\n",
    "\n",
    "# 3️⃣ Mostrar cantidad de valores nulos antes\n",
    "print(\"🔍 Valores nulos antes de la limpieza:\")\n",
    "print(df.isnull().sum())\n",
    "\n",
    "# 4️⃣ Reemplazar valores nulos o \"NA\" en columnas clave\n",
    "df.replace(\"NA\", pd.NA, inplace=True)\n",
    "\n",
    "# Rellenar valores vacíos con valores por defecto o marcadores válidos\n",
    "df[\"nombre\"] = df[\"nombre\"].fillna(\"SIN NOMBRE\")\n",
    "df[\"edad\"] = df[\"edad\"].fillna(df[\"edad\"].median())\n",
    "df[\"sexo\"] = df[\"sexo\"].fillna(\"ND\")  # ND = No definido\n",
    "df[\"distrito\"] = df[\"distrito\"].fillna(\"Desconocido\")\n",
    "df[\"servicio\"] = df[\"servicio\"].fillna(\"Sin servicio\")\n",
    "df[\"fecha_atencion\"] = df[\"fecha_atencion\"].fillna(\"01/01/2020\")\n",
    "df[\"monto\"] = df[\"monto\"].fillna(0)\n",
    "\n",
    "# 5️⃣ Corregir inconsistencias comunes\n",
    "# Edades negativas o mayores de 120\n",
    "df.loc[(df[\"edad\"] < 0) | (df[\"edad\"] > 120), \"edad\"] = df[\"edad\"].median()\n",
    "\n",
    "# Montos negativos o nulos\n",
    "df.loc[df[\"monto\"] <= 0, \"monto\"] = df[\"monto\"].median()\n",
    "\n",
    "# Fechas futuras (posteriores a 2025)\n",
    "df[\"fecha_atencion\"] = pd.to_datetime(df[\"fecha_atencion\"], errors=\"coerce\", dayfirst=True)\n",
    "df.loc[df[\"fecha_atencion\"] > pd.Timestamp(\"2025-12-31\"), \"fecha_atencion\"] = pd.Timestamp(\"2025-12-31\")\n",
    "\n",
    "# 6️⃣ Eliminar filas completamente vacías o duplicadas\n",
    "df.dropna(how=\"all\", inplace=True)\n",
    "df.drop_duplicates(inplace=True)\n",
    "\n",
    "# 7️⃣ Mostrar resumen después de la limpieza\n",
    "print(\"\\n✅ Después de la limpieza:\")\n",
    "print(df.isnull().sum())\n",
    "\n",
    "# 8️⃣ Guardar el nuevo archivo limpio\n",
    "df.to_csv(output_file, index=False, encoding=\"utf-8\")\n",
    "print(f\"\\n📁 Archivo limpio guardado en: {output_file}\")\n",
    "print(f\"📊 Total de registros finales: {len(df)}\")\n"
   ]
  }
 ],
 "metadata": {
  "kernelspec": {
   "display_name": "myenv",
   "language": "python",
   "name": "python3"
  },
  "language_info": {
   "codemirror_mode": {
    "name": "ipython",
    "version": 3
   },
   "file_extension": ".py",
   "mimetype": "text/x-python",
   "name": "python",
   "nbconvert_exporter": "python",
   "pygments_lexer": "ipython3",
   "version": "3.13.7"
  }
 },
 "nbformat": 4,
 "nbformat_minor": 5
}
