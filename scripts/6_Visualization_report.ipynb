{
 "cells": [
  {
   "cell_type": "markdown",
   "id": "9149f6df",
   "metadata": {},
   "source": [
    "🧩 Fase 6 – Visualización de Datos\n",
    "Usar matplotlib y pandas para mostrar:\n",
    "    1.\tGráfico de barras: número de pacientes atendidos por servicio.\n",
    "    2.\tGráfico circular: distribución por sexo.\n",
    "    3.\tHistograma: distribución de edades.\n",
    "    4.\tReporte tabular: promedio de montos por distrito."
   ]
  },
  {
   "cell_type": "code",
   "execution_count": 1,
   "id": "e8ca27e8",
   "metadata": {},
   "outputs": [
    {
     "name": "stdout",
     "output_type": "stream",
     "text": [
      "✅ Datos cargados correctamente:\n",
      "  id_paciente          nombre  edad sexo     distrito     servicio  \\\n",
      "0      P00176  Miguel Mendoza  13.0   ND        Surco  Cardiología   \n",
      "1      P02212      Ana Torres  28.0   ND  Desconocido   Emergencia   \n",
      "2      P00242     José Flores  41.0    F  Desconocido      Rayos X   \n",
      "3      P01022  María Castillo  30.0    F   Miraflores   Vacunación   \n",
      "4      P01961      SIN NOMBRE  73.0    F   San Isidro      Rayos X   \n",
      "\n",
      "  fecha_atencion   monto  \n",
      "0     2021-01-27  871.25  \n",
      "1     2025-09-15  550.05  \n",
      "2     2024-12-31  463.93  \n",
      "3     2024-04-13  113.47  \n",
      "4     2024-07-19  827.46  \n",
      "\n",
      "📋 Promedio de montos por distrito:\n",
      "      distrito       monto\n",
      "4        Lince  538.334420\n",
      "5   Miraflores  522.667393\n",
      "7        Surco  519.714780\n",
      "6   San Isidro  510.717697\n",
      "1        Comas  501.872663\n",
      "2  Desconocido  493.293000\n",
      "3    La Molina  491.596072\n",
      "0       Callao  479.061513\n",
      "\n",
      "💾 Todos los reportes fueron guardados en la carpeta: c:\\Users\\John_\\documents\\CentroMédico_2025\\scripts\\..\\reports\n"
     ]
    }
   ],
   "source": [
    "import pandas as pd\n",
    "import matplotlib.pyplot as plt\n",
    "from pathlib import Path\n",
    "\n",
    "# 1️⃣ Definir rutas\n",
    "data_path = Path.cwd() / \"../database/pacientes_clean.csv\"\n",
    "reports_path = Path.cwd() / \"../reports\"\n",
    "reports_path.mkdir(parents=True, exist_ok=True)\n",
    "\n",
    "# 2️⃣ Cargar los datos limpios\n",
    "df = pd.read_csv(data_path)\n",
    "print(\"✅ Datos cargados correctamente:\")\n",
    "print(df.head())\n",
    "\n",
    "# 3️⃣ Gráfico de barras: número de pacientes por servicio\n",
    "servicios = df[\"servicio\"].value_counts()\n",
    "plt.figure(figsize=(10, 6))\n",
    "servicios.plot(kind=\"bar\", color=\"skyblue\", edgecolor=\"black\")\n",
    "plt.title(\"Número de Pacientes Atendidos por Servicio\")\n",
    "plt.xlabel(\"Servicio\")\n",
    "plt.ylabel(\"Cantidad de Pacientes\")\n",
    "plt.xticks(rotation=45, ha='right')\n",
    "plt.tight_layout()\n",
    "plt.savefig(reports_path / \"grafico_pacientes_por_servicio.png\", dpi=300)\n",
    "plt.close()\n",
    "\n",
    "# 4️⃣ Gráfico circular: distribución por sexo\n",
    "sexos = df[\"sexo\"].value_counts()\n",
    "plt.figure(figsize=(6, 6))\n",
    "sexos.plot(kind=\"pie\", autopct='%1.1f%%', startangle=90,\n",
    "           colors=[\"#66b3ff\", \"#ff9999\", \"#99ff99\"])\n",
    "plt.title(\"Distribución de Pacientes por Sexo\")\n",
    "plt.ylabel(\"\")\n",
    "plt.tight_layout()\n",
    "plt.savefig(reports_path / \"grafico_distribucion_por_sexo.png\", dpi=300)\n",
    "plt.close()\n",
    "\n",
    "# 5️⃣ Histograma: distribución de edades\n",
    "plt.figure(figsize=(8, 5))\n",
    "plt.hist(df[\"edad\"], bins=15, color=\"lightgreen\", edgecolor=\"black\")\n",
    "plt.title(\"Distribución de Edades de los Pacientes\")\n",
    "plt.xlabel(\"Edad\")\n",
    "plt.ylabel(\"Frecuencia\")\n",
    "plt.grid(axis=\"y\", linestyle=\"--\", alpha=0.7)\n",
    "plt.tight_layout()\n",
    "plt.savefig(reports_path / \"histograma_edades.png\", dpi=300)\n",
    "plt.close()\n",
    "\n",
    "# 6️⃣ Reporte tabular: promedio de montos por distrito\n",
    "reporte = df.groupby(\"distrito\")[\"monto\"].mean().reset_index().sort_values(by=\"monto\", ascending=False)\n",
    "print(\"\\n📋 Promedio de montos por distrito:\")\n",
    "print(reporte)\n",
    "\n",
    "# Guardar el reporte en la carpeta reports\n",
    "reporte_file = reports_path / \"reporte_promedio_monto_distrito.csv\"\n",
    "reporte.to_csv(reporte_file, index=False, encoding=\"utf-8\")\n",
    "\n",
    "print(\"\\n💾 Todos los reportes fueron guardados en la carpeta:\", reports_path)"
   ]
  }
 ],
 "metadata": {
  "kernelspec": {
   "display_name": "myenv",
   "language": "python",
   "name": "python3"
  },
  "language_info": {
   "codemirror_mode": {
    "name": "ipython",
    "version": 3
   },
   "file_extension": ".py",
   "mimetype": "text/x-python",
   "name": "python",
   "nbconvert_exporter": "python",
   "pygments_lexer": "ipython3",
   "version": "3.13.7"
  }
 },
 "nbformat": 4,
 "nbformat_minor": 5
}
