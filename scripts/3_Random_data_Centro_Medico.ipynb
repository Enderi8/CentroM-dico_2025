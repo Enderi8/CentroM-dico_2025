{
 "cells": [
  {
   "cell_type": "markdown",
   "id": "30a4cafc",
   "metadata": {},
   "source": [
    "🧩 Fase 3 – Generación de Datos Aleatorios\n",
    "Generar un archivo CSV (pacientes.csv) con 3000 registros simulados, que incluya campos nulos, NA, entre otros"
   ]
  },
  {
   "cell_type": "code",
   "execution_count": 1,
   "id": "a6e5a9dd",
   "metadata": {},
   "outputs": [
    {
     "name": "stdout",
     "output_type": "stream",
     "text": [
      "✅ Archivo generado correctamente en: c:\\Users\\John_\\documents\\CentroMédico_2025\\scripts\\..\\data\\pacientes.csv\n",
      "📊 Total de registros: 3141\n",
      "📁 Incluye nulos, duplicados e inconsistentes para pruebas ETL.\n"
     ]
    }
   ],
   "source": [
    "from pathlib import Path\n",
    "import csv\n",
    "import random\n",
    "from datetime import datetime, timedelta\n",
    "\n",
    "# 1️⃣ Crear carpeta \"data\" si no existe\n",
    "data_path = Path.cwd() / \"../data\"\n",
    "data_path.mkdir(parents=True, exist_ok=True)\n",
    "\n",
    "# 2️⃣ Definir archivo CSV\n",
    "csv_file = data_path / \"pacientes.csv\"\n",
    "\n",
    "# 3️⃣ Listas base para generar datos\n",
    "nombres = [\"Ana\", \"Luis\", \"María\", \"José\", \"Carmen\", \"Pedro\", \"Lucía\", \"Carlos\", \"Rosa\", \"Miguel\", \"Javier\", \"Patricia\"]\n",
    "apellidos = [\"Pérez\", \"Gómez\", \"Ramos\", \"Torres\", \"Fernández\", \"Ruiz\", \"Vargas\", \"Castillo\", \"Mendoza\", \"Flores\"]\n",
    "\n",
    "sexos = [\"M\", \"F\", \"NA\"]\n",
    "distritos = [\"San Isidro\", \"Miraflores\", \"Surco\", \"Callao\", \"La Molina\", \"Lince\", \"Comas\", \"NA\"]\n",
    "servicios = [\"Consulta General\", \"Emergencia\", \"Pediatría\", \"Cardiología\", \"Odontología\", \"Rayos X\", \"Vacunación\", \"NA\"]\n",
    "\n",
    "# 4️⃣ Función para generar fechas aleatorias (válidas)\n",
    "def generar_fecha():\n",
    "    inicio = datetime(2018, 1, 1)\n",
    "    fin = datetime(2025, 12, 31)\n",
    "    delta = fin - inicio\n",
    "    fecha_random = inicio + timedelta(days=random.randint(0, delta.days))\n",
    "    return fecha_random.strftime(\"%d/%m/%Y\")\n",
    "\n",
    "# 5️⃣ Función auxiliar para incluir valores nulos o \"NA\"\n",
    "def valor_opcional(valor):\n",
    "    prob = random.random()\n",
    "    if prob < 0.03:\n",
    "        return \"\"  # vacío\n",
    "    elif prob < 0.06:\n",
    "        return \"NA\"\n",
    "    return valor\n",
    "\n",
    "# 6️⃣ Generar registros simulados (base limpia)\n",
    "registros = []\n",
    "for i in range(1, 2851):  # 2850 registros \"buenos\"\n",
    "    id_paciente = f\"P{str(i).zfill(5)}\"\n",
    "    nombre = valor_opcional(f\"{random.choice(nombres)} {random.choice(apellidos)}\")\n",
    "    edad = valor_opcional(random.randint(1, 90))\n",
    "    sexo = valor_opcional(random.choice(sexos))\n",
    "    distrito = valor_opcional(random.choice(distritos))\n",
    "    servicio = valor_opcional(random.choice(servicios))\n",
    "    fecha_atencion = valor_opcional(generar_fecha())\n",
    "    monto = valor_opcional(round(random.uniform(20, 1000), 2))\n",
    "    \n",
    "    registros.append([id_paciente, nombre, edad, sexo, distrito, servicio, fecha_atencion, monto])\n",
    "\n",
    "# 7️⃣ Agregar duplicados (~5%)\n",
    "num_duplicados = int(len(registros) * 0.05)\n",
    "duplicados = random.sample(registros, num_duplicados)\n",
    "registros.extend(duplicados)\n",
    "\n",
    "# 8️⃣ Agregar inconsistencias (~5%)\n",
    "num_inconsistentes = int(len(registros) * 0.05)\n",
    "for _ in range(num_inconsistentes):\n",
    "    id_paciente = f\"P{str(random.randint(2851, 3000)).zfill(5)}\"\n",
    "    nombre = f\"{random.choice(nombres)} {random.choice(apellidos)}\"\n",
    "    edad = random.choice([random.randint(-20, 0), random.randint(121, 200)])  # edades no válidas\n",
    "    sexo = random.choice([\"M\", \"F\", \"X\", \"NA\"])  # \"X\" no válido\n",
    "    distrito = random.choice(distritos + [\"Desconocido\"])\n",
    "    servicio = random.choice(servicios + [\"Otro\", \"\"])\n",
    "    \n",
    "    # Fecha futura (hasta 2035)\n",
    "    fecha_futura = (datetime(2026, 1, 1) + timedelta(days=random.randint(0, 365 * 9))).strftime(\"%d/%m/%Y\")\n",
    "    monto = random.choice([0, -50, round(random.uniform(20, 1000), 2)])\n",
    "    \n",
    "    registros.append([id_paciente, nombre, edad, sexo, distrito, servicio, fecha_futura, monto])\n",
    "\n",
    "# 9️⃣ Barajar los registros para mezclar duplicados e inconsistentes\n",
    "random.shuffle(registros)\n",
    "\n",
    "# 🔟 Escribir archivo CSV\n",
    "with open(csv_file, mode=\"w\", newline=\"\", encoding=\"utf-8\") as file:\n",
    "    writer = csv.writer(file)\n",
    "    writer.writerow([\"id_paciente\", \"nombre\", \"edad\", \"sexo\", \"distrito\", \"servicio\", \"fecha_atencion\", \"monto\"])\n",
    "    writer.writerows(registros)\n",
    "\n",
    "print(f\"✅ Archivo generado correctamente en: {csv_file}\")\n",
    "print(f\"📊 Total de registros: {len(registros)}\")\n",
    "print(f\"📁 Incluye nulos, duplicados e inconsistentes para pruebas ETL.\")"
   ]
  }
 ],
 "metadata": {
  "kernelspec": {
   "display_name": "myenv",
   "language": "python",
   "name": "python3"
  },
  "language_info": {
   "codemirror_mode": {
    "name": "ipython",
    "version": 3
   },
   "file_extension": ".py",
   "mimetype": "text/x-python",
   "name": "python",
   "nbconvert_exporter": "python",
   "pygments_lexer": "ipython3",
   "version": "3.13.7"
  }
 },
 "nbformat": 4,
 "nbformat_minor": 5
}
