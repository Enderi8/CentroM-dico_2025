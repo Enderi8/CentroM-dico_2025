{
 "cells": [
  {
   "cell_type": "markdown",
   "id": "fcf51dbb",
   "metadata": {},
   "source": [
    "🧩 Fase 2 – Definición de Esquema\n",
    "Generar un archivo base CSV (base.csv) con la estructura indicada."
   ]
  },
  {
   "cell_type": "markdown",
   "id": "a3262e5c",
   "metadata": {},
   "source": [
    "Dentro del proyecto, crear una carpeta llamada data y un archivo base.csv con las \n",
    "columnas: id_paciente, nombre, edad, sexo, distrito, servicio, fecha_atencion, monto "
   ]
  },
  {
   "cell_type": "code",
   "execution_count": 1,
   "id": "87f2a746",
   "metadata": {},
   "outputs": [
    {
     "name": "stdout",
     "output_type": "stream",
     "text": [
      "Archivo 'base.csv' creado correctamente.\n"
     ]
    }
   ],
   "source": [
    "from pathlib import Path\n",
    "\n",
    "# Crear carpeta data\n",
    "data_path = Path.cwd() / \"../data\"\n",
    "data_path.mkdir(parents=True, exist_ok=True)\n",
    "\n",
    "# Crear archivo CSV base\n",
    "archivo_csv = data_path / \"base.csv\"\n",
    "if not archivo_csv.exists():\n",
    "    with open(archivo_csv, \"w\", encoding=\"utf-8\") as f:\n",
    "        f.write(\"id_paciente, nombre, edad, sexo, distrito, servicio, fecha_atencion, monto\\n\")\n",
    "    print(\"Archivo 'base.csv' creado correctamente.\")\n",
    "else:\n",
    "    print(\"El archivo 'base.csv' ya existe.\")\n"
   ]
  }
 ],
 "metadata": {
  "kernelspec": {
   "display_name": "myenv",
   "language": "python",
   "name": "python3"
  },
  "language_info": {
   "codemirror_mode": {
    "name": "ipython",
    "version": 3
   },
   "file_extension": ".py",
   "mimetype": "text/x-python",
   "name": "python",
   "nbconvert_exporter": "python",
   "pygments_lexer": "ipython3",
   "version": "3.13.7"
  }
 },
 "nbformat": 4,
 "nbformat_minor": 5
}
