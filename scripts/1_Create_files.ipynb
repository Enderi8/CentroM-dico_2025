{
 "cells": [
  {
   "cell_type": "markdown",
   "id": "83acff41",
   "metadata": {},
   "source": [
    "🧩 Fase 1 – Creación de Archivos\n",
    "Crear carpetas data, database, reports, ci, git y scripts y estructura base del proyecto usando os y pathlib en tiempo de ejecución\n"
   ]
  },
  {
   "cell_type": "markdown",
   "id": "52b6ef0f",
   "metadata": {},
   "source": [
    "🧩 Crear carpeta “data” automáticamente\n",
    "✅ Opción 1: usando os\n"
   ]
  },
  {
   "cell_type": "code",
   "execution_count": 1,
   "id": "900e69d7",
   "metadata": {},
   "outputs": [
    {
     "name": "stdout",
     "output_type": "stream",
     "text": [
      "Carpeta creada en: c:\\Users\\John_\\documents\\CentroMédico_2025\\scripts\\../data\n"
     ]
    }
   ],
   "source": [
    "import os\n",
    "\n",
    "# Ruta de la carpeta \"data\" dentro del proyecto actual\n",
    "ruta_carpeta = os.path.join(os.getcwd(), \"../data\")\n",
    "\n",
    "# Crear carpeta si no existe\n",
    "if not os.path.exists(ruta_carpeta):\n",
    "    os.makedirs(ruta_carpeta)\n",
    "    print(f\"Carpeta creada en: {ruta_carpeta}\")\n",
    "else:\n",
    "    print(\"La carpeta 'data' ya existe.\")"
   ]
  },
  {
   "cell_type": "markdown",
   "id": "3f1b6090",
   "metadata": {},
   "source": [
    "✅ Opción 2: usando pathlib (más moderno y elegante)"
   ]
  },
  {
   "cell_type": "code",
   "execution_count": 2,
   "id": "36a07e63",
   "metadata": {},
   "outputs": [
    {
     "name": "stdout",
     "output_type": "stream",
     "text": [
      "Carpeta creada en: c:\\Users\\John_\\documents\\CentroMédico_2025\\scripts\\..\\database\n"
     ]
    }
   ],
   "source": [
    "from pathlib import Path\n",
    "\n",
    "# Definir la ruta de la carpeta \"data\"\n",
    "ruta_carpeta = Path.cwd() / \"../database\"\n",
    "\n",
    "# Crear la carpeta si no existe\n",
    "ruta_carpeta.mkdir(parents=True, exist_ok=True)\n",
    "\n",
    "print(f\"Carpeta creada en: {ruta_carpeta}\")"
   ]
  },
  {
   "cell_type": "markdown",
   "id": "d2dc1b19",
   "metadata": {},
   "source": [
    "💡 Crear otras carpetas en la misma ejecución"
   ]
  },
  {
   "cell_type": "code",
   "execution_count": 3,
   "id": "739a32b6",
   "metadata": {},
   "outputs": [
    {
     "name": "stdout",
     "output_type": "stream",
     "text": [
      "✅ Carpeta 'data' lista en c:\\Users\\John_\\documents\\CentroMédico_2025\\scripts\\..\\data\n",
      "✅ Carpeta 'database' lista en c:\\Users\\John_\\documents\\CentroMédico_2025\\scripts\\..\\database\n",
      "✅ Carpeta 'reports' lista en c:\\Users\\John_\\documents\\CentroMédico_2025\\scripts\\..\\reports\n",
      "✅ Carpeta 'ci' lista en c:\\Users\\John_\\documents\\CentroMédico_2025\\scripts\\..\\ci\n",
      "✅ Carpeta 'git' lista en c:\\Users\\John_\\documents\\CentroMédico_2025\\scripts\\..\\git\n",
      "✅ Carpeta 'scripts' lista en c:\\Users\\John_\\documents\\CentroMédico_2025\\scripts\\..\\scripts\n"
     ]
    }
   ],
   "source": [
    "from pathlib import Path\n",
    "\n",
    "# Rutas de carpetas del proyecto\n",
    "carpetas = [\"data\", \"database\", \"reports\", \"ci\", \"git\", \"scripts\"]\n",
    "\n",
    "for carpeta in carpetas:\n",
    "    ruta = Path.cwd() / f\"../{carpeta}\"\n",
    "    ruta.mkdir(parents=True, exist_ok=True)\n",
    "    print(f\"✅ Carpeta '{carpeta}' lista en {ruta}\")\n"
   ]
  }
 ],
 "metadata": {
  "kernelspec": {
   "display_name": "myenv",
   "language": "python",
   "name": "python3"
  },
  "language_info": {
   "codemirror_mode": {
    "name": "ipython",
    "version": 3
   },
   "file_extension": ".py",
   "mimetype": "text/x-python",
   "name": "python",
   "nbconvert_exporter": "python",
   "pygments_lexer": "ipython3",
   "version": "3.13.7"
  }
 },
 "nbformat": 4,
 "nbformat_minor": 5
}
